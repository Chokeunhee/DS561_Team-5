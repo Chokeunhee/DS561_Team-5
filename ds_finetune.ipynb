{
  "cells": [
    {
      "cell_type": "markdown",
      "metadata": {
        "id": "IBT1hUN772J_"
      },
      "source": [
        "#### 라이브러리"
      ]
    },
    {
      "cell_type": "code",
      "execution_count": null,
      "metadata": {
        "colab": {
          "base_uri": "https://localhost:8080/"
        },
        "collapsed": true,
        "id": "mDifQ4st1qTH",
        "outputId": "c67a7408-4037-4ab8-e950-728da5e1f6fc"
      },
      "outputs": [
        {
          "name": "stdout",
          "output_type": "stream",
          "text": [
            "Requirement already satisfied: openai in /usr/local/lib/python3.10/dist-packages (1.52.2)\n",
            "Requirement already satisfied: anyio<5,>=3.5.0 in /usr/local/lib/python3.10/dist-packages (from openai) (3.7.1)\n",
            "Requirement already satisfied: distro<2,>=1.7.0 in /usr/lib/python3/dist-packages (from openai) (1.7.0)\n",
            "Requirement already satisfied: httpx<1,>=0.23.0 in /usr/local/lib/python3.10/dist-packages (from openai) (0.27.2)\n",
            "Requirement already satisfied: jiter<1,>=0.4.0 in /usr/local/lib/python3.10/dist-packages (from openai) (0.6.1)\n",
            "Requirement already satisfied: pydantic<3,>=1.9.0 in /usr/local/lib/python3.10/dist-packages (from openai) (2.9.2)\n",
            "Requirement already satisfied: sniffio in /usr/local/lib/python3.10/dist-packages (from openai) (1.3.1)\n",
            "Requirement already satisfied: tqdm>4 in /usr/local/lib/python3.10/dist-packages (from openai) (4.66.5)\n",
            "Requirement already satisfied: typing-extensions<5,>=4.11 in /usr/local/lib/python3.10/dist-packages (from openai) (4.12.2)\n",
            "Requirement already satisfied: idna>=2.8 in /usr/local/lib/python3.10/dist-packages (from anyio<5,>=3.5.0->openai) (3.10)\n",
            "Requirement already satisfied: exceptiongroup in /usr/local/lib/python3.10/dist-packages (from anyio<5,>=3.5.0->openai) (1.2.2)\n",
            "Requirement already satisfied: certifi in /usr/local/lib/python3.10/dist-packages (from httpx<1,>=0.23.0->openai) (2024.8.30)\n",
            "Requirement already satisfied: httpcore==1.* in /usr/local/lib/python3.10/dist-packages (from httpx<1,>=0.23.0->openai) (1.0.6)\n",
            "Requirement already satisfied: h11<0.15,>=0.13 in /usr/local/lib/python3.10/dist-packages (from httpcore==1.*->httpx<1,>=0.23.0->openai) (0.14.0)\n",
            "Requirement already satisfied: annotated-types>=0.6.0 in /usr/local/lib/python3.10/dist-packages (from pydantic<3,>=1.9.0->openai) (0.7.0)\n",
            "Requirement already satisfied: pydantic-core==2.23.4 in /usr/local/lib/python3.10/dist-packages (from pydantic<3,>=1.9.0->openai) (2.23.4)\n",
            "Requirement already satisfied: tiktoken in /usr/local/lib/python3.10/dist-packages (0.8.0)\n",
            "Requirement already satisfied: regex>=2022.1.18 in /usr/local/lib/python3.10/dist-packages (from tiktoken) (2024.9.11)\n",
            "Requirement already satisfied: requests>=2.26.0 in /usr/local/lib/python3.10/dist-packages (from tiktoken) (2.32.3)\n",
            "Requirement already satisfied: charset-normalizer<4,>=2 in /usr/local/lib/python3.10/dist-packages (from requests>=2.26.0->tiktoken) (3.4.0)\n",
            "Requirement already satisfied: idna<4,>=2.5 in /usr/local/lib/python3.10/dist-packages (from requests>=2.26.0->tiktoken) (3.10)\n",
            "Requirement already satisfied: urllib3<3,>=1.21.1 in /usr/local/lib/python3.10/dist-packages (from requests>=2.26.0->tiktoken) (2.2.3)\n",
            "Requirement already satisfied: certifi>=2017.4.17 in /usr/local/lib/python3.10/dist-packages (from requests>=2.26.0->tiktoken) (2024.8.30)\n"
          ]
        }
      ],
      "source": [
        "!pip install --upgrade openai\n",
        "!pip install tiktoken\n"
      ]
    },
    {
      "cell_type": "code",
      "execution_count": null,
      "metadata": {
        "id": "n0Kvs3yt8Eg5"
      },
      "outputs": [],
      "source": [
        "import os\n",
        "import openai\n",
        "from openai import OpenAI\n",
        "import json\n",
        "import random\n",
        "import tiktoken\n",
        "import numpy as np\n",
        "from collections import defaultdict\n",
        "from typing import Optional, Tuple, List, Dict\n",
        "import logging\n",
        "import random\n",
        "from datetime import datetime\n",
        "import pandas as pd\n",
        "import itertools\n",
        "import time\n",
        "from dataclasses import dataclass"
      ]
    },
    {
      "cell_type": "markdown",
      "metadata": {
        "id": "6EKO_ogWpT-d"
      },
      "source": [
        "#### API 연결하기"
      ]
    },
    {
      "cell_type": "code",
      "execution_count": null,
      "metadata": {
        "id": "vx-zbcqWpC8_"
      },
      "outputs": [],
      "source": [
        "# 발급받은 API 키 설정\n",
        "OPENAI_API_KEY = ## openai key\n",
        "client=OpenAI(api_key=OPENAI_API_KEY)"
      ]
    },
    {
      "cell_type": "markdown",
      "metadata": {
        "id": "uGQXEDw8Ted7"
      },
      "source": [
        "API의 Role을 정의"
      ]
    },
    {
      "cell_type": "code",
      "execution_count": null,
      "metadata": {
        "colab": {
          "base_uri": "https://localhost:8080/"
        },
        "id": "1KmPPjBp7iAB",
        "outputId": "b41883e0-59ec-4d4a-a544-e2319a0b0115"
      },
      "outputs": [
        {
          "name": "stdout",
          "output_type": "stream",
          "text": [
            "ChatCompletion(id='chatcmpl-ANVEiacOywIwk9K0FXKsoskemPQJt', choices=[Choice(finish_reason='stop', index=0, logprobs=None, message=ChatCompletionMessage(content='목동에는 여러 공원이 있습니다. 특히 다음과 같은 공원이 인기 있습니다:\\n\\n1. **목동근린공원**: 이 공원은 주민들이 운동을 하거나 산책을 하기 좋은 장소입니다. 다양한 운동시설과 산책로가 마련되어 있어 가족 단위 방문객에게 알맞습니다.\\n\\n2. **서울 목동 어린이공원**: 어린이들을 위한 놀이시설이 잘 갖춰져 있는 공원으로, 아이들이 안전하게 놀 수 있는 환경입니다. 부모들이 아이들과 함께 즐길 수 있는 공간입니다.\\n\\n3. **목동문화체육센터 주변 공원**: 체육시설과 함께 잘 조성된 녹지 공간이 있어 운동이나 여가활동을 즐기기에 좋습니다. 자전거 도로나 조깅 코스도 마련되어 있어 많은 사람들이 이용합니다.\\n\\n각 공원마다 특징이 있으니 방문하실 때 어떤 활동을 하고 싶은지에 따라 선택하시면 좋습니다!', refusal=None, role='assistant', audio=None, function_call=None, tool_calls=None))], created=1730164980, model='gpt-4o-mini-2024-07-18', object='chat.completion', service_tier=None, system_fingerprint='fp_f59a81427f', usage=CompletionUsage(completion_tokens=205, prompt_tokens=43, total_tokens=248, completion_tokens_details=CompletionTokensDetails(audio_tokens=None, reasoning_tokens=0), prompt_tokens_details=PromptTokensDetails(audio_tokens=None, cached_tokens=0)))\n"
          ]
        }
      ],
      "source": [
        "# # api key 동작 여부 확인\n",
        "# # 프로젝트와는 관계없음\n",
        "# chat = openai.chat.completions.create(\n",
        "#   model = \"gpt-4o-mini-2024-07-18\",\n",
        "#   messages = [\n",
        "#     {'role': 'system', 'content': 'You are a friendly assistant who provides information about parks located in Mokdong, Yangcheon-gu, Seoul.'},\n",
        "#     {'role': 'user', 'content': '목동에 있는 공원에 대해 알려줘.'},\n",
        "# ]\n",
        "# )\n",
        "# print(chat)"
      ]
    },
    {
      "cell_type": "markdown",
      "metadata": {
        "id": "mlKq73Nx4OHP"
      },
      "source": [
        "#### 데이터셋 로드\n",
        "**데이터 형식** (jsonl)\n",
        "\n",
        "    {\"messages\": [\n",
        "      {\"role\": \"system\", \"content\": \"(챗봇의 역할에 대한 설명)\"},\n",
        "      {\"role\": \"user\", \"content\": \"(사용자의 예상 질문)\"},\n",
        "      {\"role\": \"assistant\", \"content\": \"(챗봇의 예상 답변)\"}\n",
        "      ]\n",
        "    }\n"
      ]
    },
    {
      "cell_type": "code",
      "execution_count": null,
      "metadata": {
        "colab": {
          "base_uri": "https://localhost:8080/"
        },
        "id": "77oIzTtm6HRp",
        "outputId": "5c5c8a0f-7df8-4f2a-ec6b-1bb973ac53e1"
      },
      "outputs": [
        {
          "name": "stdout",
          "output_type": "stream",
          "text": [
            "Train data and valid data saved as '/content/drive/MyDrive/DS541/train_dataset.jsonl' 및 '/content/drive/MyDrive/DS541/valid_dataset.jsonl'\n"
          ]
        }
      ],
      "source": [
        "# 데이터 로드 후 train/valid dataset으로 8:2 분할\n",
        "data_path = \"/content/drive/MyDrive/DS541/QAdataset.jsonl\"\n",
        "train_path = \"/content/drive/MyDrive/DS541/train_dataset.jsonl\"\n",
        "valid_path = \"/content/drive/MyDrive/DS541/valid_dataset.jsonl\"\n",
        "\n",
        "# data load\n",
        "with open(data_path, \"r\") as f:\n",
        "    lines = [json.loads(line) for line in f]\n",
        "\n",
        "# 데이터 랜덤 - 일정하게 하려면 코드 주석 처리\n",
        "random.shuffle(lines)\n",
        "\n",
        "# 8:2 비율로 나누기\n",
        "split_index = int(len(lines) * 0.8)\n",
        "train_data = lines[:split_index]\n",
        "valid_data = lines[split_index:]\n",
        "\n",
        "# 훈련 데이터와 테스트 데이터를 jsonl 형식으로 저장\n",
        "with open(train_path, \"w\") as train_file:\n",
        "    for entry in train_data:\n",
        "        train_file.write(json.dumps(entry) + \"\\n\")\n",
        "\n",
        "with open(valid_path, \"w\") as test_file:\n",
        "    for entry in valid_data:\n",
        "        test_file.write(json.dumps(entry) + \"\\n\")\n",
        "\n",
        "print(f\"Train data saved as '{train_path}'\")\n",
        "print(f\"Valid data saved as '{valid_path}'\")"
      ]
    },
    {
      "cell_type": "code",
      "execution_count": null,
      "metadata": {
        "colab": {
          "base_uri": "https://localhost:8080/"
        },
        "id": "FKbz1ltt7lWj",
        "outputId": "ab2d588f-27db-449d-c51d-77c6a166bd97"
      },
      "outputs": [],
      "source": [
        "# data path\n",
        "data_path = \"/content/drive/MyDrive/DS541/QAdataset.jsonl\" #데이터경로로 변경\n",
        "\n",
        "# Load dataset\n",
        "res = client.files.create(\n",
        "  file=open(data_path, \"rb\"),\n",
        "  purpose=\"fine-tune\"\n",
        ")\n",
        "\n",
        "resId = res.id\n",
        "print(f\"trained file id : {resId}\")"
      ]
    },
    {
      "cell_type": "markdown",
      "metadata": {
        "id": "VZQr2xtg96rt"
      },
      "source": [
        "#### Fine-Tuning"
      ]
    },
    {
      "cell_type": "code",
      "execution_count": null,
      "metadata": {
        "colab": {
          "base_uri": "https://localhost:8080/"
        },
        "id": "W3IpHbmE-DyO",
        "outputId": "98ce1b08-a68e-49d6-8181-c0aef2c10c3e"
      },
      "outputs": [
        {
          "name": "stdout",
          "output_type": "stream",
          "text": [
            "FineTuningJob(id='ftjob-ioyIXM7ybKMcWIuaahDxr3Fd', created_at=1730165932, error=Error(code=None, message=None, param=None), fine_tuned_model=None, finished_at=None, hyperparameters=Hyperparameters(n_epochs='auto', batch_size='auto', learning_rate_multiplier='auto'), model='gpt-4o-mini-2024-07-18', object='fine_tuning.job', organization_id='org-yuMhbeTHpaas9LlsYMEyeUlF', result_files=[], seed=1526429414, status='validating_files', trained_tokens=None, training_file='file-xyJxuztZL7Ifzcu0BfzA65my', validation_file='file-Ic0IybDWRyc8XiK4A8qihNFU', estimated_finish=None, integrations=[], user_provided_suffix=None)\n"
          ]
        }
      ],
      "source": [
        "train_path = \"/content/drive/MyDrive/DS541/train_dataset.jsonl\"\n",
        "valid_path = \"/content/drive/MyDrive/DS541/valid_dataset.jsonl\"\n",
        "\n",
        "train_file = client.files.create(file=open(train_path, \"rb\"), purpose=\"fine-tune\")\n",
        "valid_file = client.files.create(file=open(valid_path, \"rb\"), purpose=\"fine-tune\")\n",
        "\n",
        "fine_tuning_job = client.fine_tuning.jobs.create(training_file=train_file.id, validation_file=valid_file.id, model=\"gpt-4o-mini-2024-07-18\")\n",
        "\n",
        "print(fine_tuning_job)"
      ]
    },
    {
      "cell_type": "code",
      "execution_count": null,
      "metadata": {
        "colab": {
          "base_uri": "https://localhost:8080/"
        },
        "id": "iC8HjaGkBk6Z",
        "outputId": "b9df93f1-5c0d-4228-b0f9-6d31924eaf1d"
      },
      "outputs": [
        {
          "name": "stdout",
          "output_type": "stream",
          "text": [
            "succeeded\n",
            "Error(code=None, message=None, param=None)\n",
            "1730167281\n"
          ]
        }
      ],
      "source": [
        "# fine-tuning 종료 확인\n",
        "# succeeded 나와야 성공 - 시간 좀 걸림\n",
        "fine_tune_results = client.fine_tuning.jobs.retrieve(fine_tuning_job.id)\n",
        "print(fine_tune_results.status)\n",
        "if fine_tune_results.error:\n",
        "    print(fine_tune_results.error)\n",
        "print(fine_tune_results.finished_at)"
      ]
    },
    {
      "cell_type": "code",
      "execution_count": null,
      "metadata": {
        "colab": {
          "base_uri": "https://localhost:8080/"
        },
        "id": "vM7WF96FOTF6",
        "outputId": "ddac83ac-f24b-4dd3-e3a6-d3f2ce3dcf48"
      },
      "outputs": [
        {
          "name": "stdout",
          "output_type": "stream",
          "text": [
            "ft:gpt-4o-mini-2024-07-18:personal::ANVprDdJ\n"
          ]
        }
      ],
      "source": [
        "print(fine_tune_results.fine_tuned_model)"
      ]
    },
    {
      "cell_type": "markdown",
      "metadata": {
        "id": "9hSQozx7SG7r"
      },
      "source": [
        "    ft:gpt-4o-mini-2024-07-18:personal::ANVprDdJ"
      ]
    }
  ],
  "metadata": {
    "colab": {
      "collapsed_sections": [
        "vHstWMMapSIa"
      ],
      "provenance": []
    },
    "kernelspec": {
      "display_name": "Python 3",
      "name": "python3"
    },
    "language_info": {
      "name": "python"
    }
  },
  "nbformat": 4,
  "nbformat_minor": 0
}
